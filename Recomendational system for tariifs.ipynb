{
 "cells": [
  {
   "cell_type": "markdown",
   "metadata": {},
   "source": [
    "# Рекомендация тарифов"
   ]
  },
  {
   "cell_type": "markdown",
   "metadata": {},
   "source": [
    "В вашем распоряжении данные о поведении клиентов, которые уже перешли на эти тарифы (из проекта курса «Статистический анализ данных»). Нужно построить модель для задачи классификации, которая выберет подходящий тариф. Предобработка данных не понадобится — вы её уже сделали.\n",
    "\n",
    "Постройте модель с максимально большим значением *accuracy*. Чтобы сдать проект успешно, нужно довести долю правильных ответов по крайней мере до 0.75. Проверьте *accuracy* на тестовой выборке самостоятельно."
   ]
  },
  {
   "cell_type": "markdown",
   "metadata": {},
   "source": [
    "## Откройте и изучите файл"
   ]
  },
  {
   "cell_type": "code",
   "execution_count": 1,
   "metadata": {},
   "outputs": [],
   "source": [
    "import pandas as pd\n",
    "from sklearn.model_selection import train_test_split\n",
    "\n",
    "from sklearn.tree import DecisionTreeClassifier\n",
    "from sklearn.linear_model import LogisticRegression\n",
    "from sklearn.ensemble import RandomForestClassifier\n",
    "from sklearn.dummy import DummyClassifier"
   ]
  },
  {
   "cell_type": "code",
   "execution_count": 2,
   "metadata": {},
   "outputs": [],
   "source": [
    "df = pd.read_csv('/datasets/users_behavior.csv')"
   ]
  },
  {
   "cell_type": "code",
   "execution_count": 3,
   "metadata": {},
   "outputs": [
    {
     "data": {
      "text/html": [
       "<div>\n",
       "<style scoped>\n",
       "    .dataframe tbody tr th:only-of-type {\n",
       "        vertical-align: middle;\n",
       "    }\n",
       "\n",
       "    .dataframe tbody tr th {\n",
       "        vertical-align: top;\n",
       "    }\n",
       "\n",
       "    .dataframe thead th {\n",
       "        text-align: right;\n",
       "    }\n",
       "</style>\n",
       "<table border=\"1\" class=\"dataframe\">\n",
       "  <thead>\n",
       "    <tr style=\"text-align: right;\">\n",
       "      <th></th>\n",
       "      <th>calls</th>\n",
       "      <th>minutes</th>\n",
       "      <th>messages</th>\n",
       "      <th>mb_used</th>\n",
       "      <th>is_ultra</th>\n",
       "    </tr>\n",
       "  </thead>\n",
       "  <tbody>\n",
       "    <tr>\n",
       "      <td>0</td>\n",
       "      <td>40.0</td>\n",
       "      <td>311.90</td>\n",
       "      <td>83.0</td>\n",
       "      <td>19915.42</td>\n",
       "      <td>0</td>\n",
       "    </tr>\n",
       "    <tr>\n",
       "      <td>1</td>\n",
       "      <td>85.0</td>\n",
       "      <td>516.75</td>\n",
       "      <td>56.0</td>\n",
       "      <td>22696.96</td>\n",
       "      <td>0</td>\n",
       "    </tr>\n",
       "    <tr>\n",
       "      <td>2</td>\n",
       "      <td>77.0</td>\n",
       "      <td>467.66</td>\n",
       "      <td>86.0</td>\n",
       "      <td>21060.45</td>\n",
       "      <td>0</td>\n",
       "    </tr>\n",
       "    <tr>\n",
       "      <td>3</td>\n",
       "      <td>106.0</td>\n",
       "      <td>745.53</td>\n",
       "      <td>81.0</td>\n",
       "      <td>8437.39</td>\n",
       "      <td>1</td>\n",
       "    </tr>\n",
       "    <tr>\n",
       "      <td>4</td>\n",
       "      <td>66.0</td>\n",
       "      <td>418.74</td>\n",
       "      <td>1.0</td>\n",
       "      <td>14502.75</td>\n",
       "      <td>0</td>\n",
       "    </tr>\n",
       "  </tbody>\n",
       "</table>\n",
       "</div>"
      ],
      "text/plain": [
       "   calls  minutes  messages   mb_used  is_ultra\n",
       "0   40.0   311.90      83.0  19915.42         0\n",
       "1   85.0   516.75      56.0  22696.96         0\n",
       "2   77.0   467.66      86.0  21060.45         0\n",
       "3  106.0   745.53      81.0   8437.39         1\n",
       "4   66.0   418.74       1.0  14502.75         0"
      ]
     },
     "execution_count": 3,
     "metadata": {},
     "output_type": "execute_result"
    }
   ],
   "source": [
    "df.head()"
   ]
  },
  {
   "cell_type": "markdown",
   "metadata": {},
   "source": [
    "**Описание данных**\n",
    "- `сalls` — количество звонков,\n",
    "- `minutes` — суммарная длительность звонков в минутах,\n",
    "- `messages` — количество sms-сообщений,\n",
    "- `mb_used` — израсходованный интернет-трафик в Мб,\n",
    "- `is_ultra` — каким тарифом пользовался в течение месяца («Ультра» — 1, «Смарт» — 0)."
   ]
  },
  {
   "cell_type": "code",
   "execution_count": 4,
   "metadata": {},
   "outputs": [
    {
     "name": "stdout",
     "output_type": "stream",
     "text": [
      "<class 'pandas.core.frame.DataFrame'>\n",
      "RangeIndex: 3214 entries, 0 to 3213\n",
      "Data columns (total 5 columns):\n",
      "calls       3214 non-null float64\n",
      "minutes     3214 non-null float64\n",
      "messages    3214 non-null float64\n",
      "mb_used     3214 non-null float64\n",
      "is_ultra    3214 non-null int64\n",
      "dtypes: float64(4), int64(1)\n",
      "memory usage: 125.7 KB\n"
     ]
    }
   ],
   "source": [
    "# Проверим тип данных\n",
    "df.info()"
   ]
  },
  {
   "cell_type": "markdown",
   "metadata": {},
   "source": [
    "Изменим тип столбца `messages` на int"
   ]
  },
  {
   "cell_type": "code",
   "execution_count": 5,
   "metadata": {},
   "outputs": [],
   "source": [
    "df['messages']=df['messages'].astype(\"int\")"
   ]
  },
  {
   "cell_type": "code",
   "execution_count": 6,
   "metadata": {},
   "outputs": [
    {
     "data": {
      "text/plain": [
       "0"
      ]
     },
     "execution_count": 6,
     "metadata": {},
     "output_type": "execute_result"
    }
   ],
   "source": [
    "#Проверим дубликаты\n",
    "df.duplicated().sum()"
   ]
  },
  {
   "cell_type": "markdown",
   "metadata": {},
   "source": [
    "**Вывод**\n",
    "\n",
    "- Пропущенных значений нет\n",
    "\n",
    "- Типы столбцов в порядке\n",
    "\n",
    "- Дубликатов нет"
   ]
  },
  {
   "cell_type": "markdown",
   "metadata": {},
   "source": [
    "## Разбейте данные на выборки"
   ]
  },
  {
   "cell_type": "markdown",
   "metadata": {},
   "source": [
    "### Разобъем выборки на train(80%) и тест(20%)"
   ]
  },
  {
   "cell_type": "code",
   "execution_count": 7,
   "metadata": {},
   "outputs": [],
   "source": [
    "df_train, df_test = train_test_split(df, test_size=0.4, random_state=12345)\n",
    "features = df_test.drop('is_ultra', axis=1)\n",
    "target = df_test['is_ultra']"
   ]
  },
  {
   "cell_type": "markdown",
   "metadata": {},
   "source": [
    "### Разобъем выборки на val(20%) и test(20%)"
   ]
  },
  {
   "cell_type": "code",
   "execution_count": 8,
   "metadata": {},
   "outputs": [],
   "source": [
    "features_valid, features_test, target_valid, target_test = train_test_split(features, target, \n",
    "                                                                            test_size=0.5, random_state=12345)"
   ]
  },
  {
   "cell_type": "code",
   "execution_count": 9,
   "metadata": {},
   "outputs": [],
   "source": [
    "features_train = df_train.drop('is_ultra', axis=1)\n",
    "target_train = df_train['is_ultra']"
   ]
  },
  {
   "cell_type": "markdown",
   "metadata": {},
   "source": [
    "**Напоминалка**\n",
    "\n",
    "- features_train, target_train - обучающая выборка\n",
    "- features_valid, target_valid - валидационная выборка\n",
    "- features_test, target_test - тестовая выборка"
   ]
  },
  {
   "cell_type": "markdown",
   "metadata": {},
   "source": [
    "## Исследуйте модели"
   ]
  },
  {
   "cell_type": "markdown",
   "metadata": {},
   "source": [
    "### Логистическая регрессия"
   ]
  },
  {
   "cell_type": "code",
   "execution_count": 10,
   "metadata": {},
   "outputs": [
    {
     "name": "stdout",
     "output_type": "stream",
     "text": [
      "Качество: 0.7107309486780715\n"
     ]
    }
   ],
   "source": [
    "model = LogisticRegression(solver='lbfgs')\n",
    "model.fit(features_train, target_train)\n",
    "accuracy = model.score(features_valid, target_valid)\n",
    "print(\"Качество:\", accuracy)"
   ]
  },
  {
   "cell_type": "markdown",
   "metadata": {},
   "source": [
    "### Случайный лес"
   ]
  },
  {
   "cell_type": "code",
   "execution_count": 11,
   "metadata": {},
   "outputs": [
    {
     "name": "stdout",
     "output_type": "stream",
     "text": [
      "Глубина дерева: 7     Количество деревьев: 25    мин. объектов в узле: 3   Качество: 0.8055987558320373\n"
     ]
    }
   ],
   "source": [
    "best_accuracy = 0\n",
    "best_depth = 0\n",
    "for depth in range(1,10):\n",
    "    for est in range(5,45,5):\n",
    "        for sample in range(2,5):\n",
    "            model = RandomForestClassifier(max_depth=depth, n_estimators=est, \n",
    "                                           min_samples_leaf=sample, random_state=1515)\n",
    "            model.fit(features_train, target_train)\n",
    "            accuracy = model.score(features_valid, target_valid)\n",
    "            if accuracy > best_accuracy:\n",
    "                best_accuracy = accuracy\n",
    "                best_depth = depth\n",
    "                best_est = est\n",
    "                best_sample = sample\n",
    "print(\"Глубина дерева:\", best_depth, \"    Количество деревьев:\",\n",
    "      best_est, \"   мин. объектов в узле:\", best_sample, \"  Качество:\", best_accuracy)"
   ]
  },
  {
   "cell_type": "markdown",
   "metadata": {},
   "source": [
    "### Дерево решений"
   ]
  },
  {
   "cell_type": "code",
   "execution_count": 12,
   "metadata": {
    "scrolled": true
   },
   "outputs": [
    {
     "name": "stdout",
     "output_type": "stream",
     "text": [
      "Глубина дерева: 9     Качество: 0.7869362363919129\n"
     ]
    }
   ],
   "source": [
    "best_accuracy = 0\n",
    "best_depth = 0\n",
    "for depth in range(1,15):\n",
    "    model = DecisionTreeClassifier(max_depth=depth, random_state=1515)\n",
    "    model.fit(features_train, target_train)\n",
    "    accuracy = model.score(features_valid, target_valid)\n",
    "    if accuracy > best_accuracy:\n",
    "        best_accuracy = accuracy\n",
    "        best_depth = depth\n",
    "print(\"Глубина дерева:\", best_depth, \"    Качество:\", best_accuracy)"
   ]
  },
  {
   "cell_type": "markdown",
   "metadata": {},
   "source": [
    "## Проверьте модель на тестовой выборке"
   ]
  },
  {
   "cell_type": "markdown",
   "metadata": {},
   "source": [
    "### Логистическая регрессия"
   ]
  },
  {
   "cell_type": "code",
   "execution_count": 13,
   "metadata": {},
   "outputs": [
    {
     "name": "stdout",
     "output_type": "stream",
     "text": [
      "Качество: 0.6842923794712286\n"
     ]
    }
   ],
   "source": [
    "model = LogisticRegression(solver='lbfgs')\n",
    "model.fit(features_train, target_train)\n",
    "accuracy = model.score(features_test, target_test)\n",
    "print(\"Качество:\", accuracy)"
   ]
  },
  {
   "cell_type": "markdown",
   "metadata": {},
   "source": [
    "### Случайный лес"
   ]
  },
  {
   "cell_type": "code",
   "execution_count": 14,
   "metadata": {},
   "outputs": [
    {
     "name": "stdout",
     "output_type": "stream",
     "text": [
      "Качество: 0.8009331259720062\n"
     ]
    }
   ],
   "source": [
    "model = RandomForestClassifier(max_depth=7, n_estimators=43, min_samples_leaf=3, random_state=1515)\n",
    "model.fit(features_train, target_train)\n",
    "accuracy = model.score(features_test, target_test)\n",
    "print(\"Качество:\", accuracy)"
   ]
  },
  {
   "cell_type": "markdown",
   "metadata": {},
   "source": [
    "### Дерево решений"
   ]
  },
  {
   "cell_type": "code",
   "execution_count": 15,
   "metadata": {},
   "outputs": [
    {
     "name": "stdout",
     "output_type": "stream",
     "text": [
      "Качество: 0.7962674961119751\n"
     ]
    }
   ],
   "source": [
    "model = DecisionTreeClassifier(max_depth=7, random_state=1515)\n",
    "model.fit(features_train, target_train)\n",
    "accuracy = model.score(features_test, target_test)\n",
    "print(\"Качество:\", accuracy)"
   ]
  },
  {
   "cell_type": "markdown",
   "metadata": {},
   "source": [
    "## (бонус) Проверьте модели на адекватность"
   ]
  },
  {
   "cell_type": "code",
   "execution_count": 16,
   "metadata": {},
   "outputs": [
    {
     "name": "stdout",
     "output_type": "stream",
     "text": [
      "Качество наивного прогноза : 0.5800933125972006\n",
      "Качество нашего прогноза : 0.7962674961119751\n"
     ]
    }
   ],
   "source": [
    "dmb = DummyClassifier(strategy=\"stratified\" ,random_state=1515)\n",
    "dmb.fit(features_train, target_train)\n",
    "acc = dmb.score(features_test, target_test)\n",
    "print(\"Качество наивного прогноза :\", acc)\n",
    "print(\"Качество нашего прогноза :\", accuracy)"
   ]
  },
  {
   "cell_type": "code",
   "execution_count": 17,
   "metadata": {},
   "outputs": [
    {
     "name": "stdout",
     "output_type": "stream",
     "text": [
      "Качество наивного прогноза : 0.6842923794712286\n",
      "Качество нашего прогноза : 0.7962674961119751\n"
     ]
    }
   ],
   "source": [
    "dmb = DummyClassifier(strategy='most_frequent', random_state=1515)\n",
    "dmb.fit(features_train, target_train)\n",
    "acc = dmb.score(features_test, target_test)\n",
    "print(\"Качество наивного прогноза :\", acc)\n",
    "print(\"Качество нашего прогноза :\", accuracy)"
   ]
  },
  {
   "cell_type": "code",
   "execution_count": 18,
   "metadata": {},
   "outputs": [
    {
     "name": "stdout",
     "output_type": "stream",
     "text": [
      "Качество наивного прогноза : 0.5147744945567652\n",
      "Качество нашего прогноза : 0.7962674961119751\n"
     ]
    }
   ],
   "source": [
    "dmb = DummyClassifier(strategy='uniform', random_state=1515)\n",
    "dmb.fit(features_train, target_train)\n",
    "acc = dmb.score(features_test, target_test)\n",
    "print(\"Качество наивного прогноза :\", acc)\n",
    "print(\"Качество нашего прогноза :\", accuracy)"
   ]
  },
  {
   "cell_type": "markdown",
   "metadata": {},
   "source": [
    "<div class=\"alert alert-block alert-success\">\n",
    "\n",
    "<b>Успех:</b> Задание выполнено корректно. Лайк за DummyClassifier\n",
    "</div>\n"
   ]
  },
  {
   "cell_type": "markdown",
   "metadata": {},
   "source": [
    "# Вывод\n",
    "\n",
    "Были проверены три модели: логистическая регрессия, случайный лес, деревья решений.\n",
    "Наилучшее качество (0.80) достигается при использовании randomforest с гиперпараметрами\n",
    "`max_depth=7` , `_estimators=43` , `min_samples_leaf=3`"
   ]
  },
  {
   "cell_type": "markdown",
   "metadata": {},
   "source": [
    "![](https://media0.giphy.com/media/3oKIPf3C7HqqYBVcCk/giphy.gif?cid=ecf05e47bvyaxnu428qmjp7obaedovoefy6u2z72i2yrj7lc&rid=giphy.gif&ct=g)</div>"
   ]
  },
  {
   "cell_type": "markdown",
   "metadata": {},
   "source": [
    "## Чек-лист готовности проекта"
   ]
  },
  {
   "cell_type": "markdown",
   "metadata": {},
   "source": [
    "Поставьте 'x' в выполненных пунктах. Далее нажмите Shift+Enter."
   ]
  },
  {
   "cell_type": "markdown",
   "metadata": {},
   "source": [
    "- [x] Jupyter Notebook открыт\n",
    "- [x] Весь код исполняется без ошибок\n",
    "- [x] Ячейки с кодом расположены в порядке исполнения\n",
    "- [x] Выполнено задание 1: данные загружены и изучены\n",
    "- [x] Выполнено задание 2: данные разбиты на три выборки\n",
    "- [x] Выполнено задание 3: проведено исследование моделей\n",
    "    - [x] Рассмотрено больше одной модели\n",
    "    - [x] Рассмотрено хотя бы 3 значения гипепараметров для какой-нибудь модели\n",
    "    - [x] Написаны выводы по результатам исследования\n",
    "- [x] Выполнено задание 3: Проведено тестирование\n",
    "- [x] Удалось достичь accuracy не меньше 0.75\n"
   ]
  }
 ],
 "metadata": {
  "ExecuteTimeLog": [
   {
    "duration": 1085,
    "start_time": "2022-03-11T11:50:13.809Z"
   },
   {
    "duration": 33,
    "start_time": "2022-03-11T11:50:14.896Z"
   },
   {
    "duration": 16,
    "start_time": "2022-03-11T11:50:14.933Z"
   },
   {
    "duration": 406,
    "start_time": "2022-03-11T11:50:14.950Z"
   },
   {
    "duration": 6,
    "start_time": "2022-03-11T11:50:26.352Z"
   },
   {
    "duration": 4,
    "start_time": "2022-03-11T11:51:53.868Z"
   },
   {
    "duration": 6,
    "start_time": "2022-03-11T11:52:20.235Z"
   },
   {
    "duration": 102,
    "start_time": "2022-03-11T12:00:07.781Z"
   },
   {
    "duration": 7,
    "start_time": "2022-03-11T12:00:14.695Z"
   },
   {
    "duration": 5,
    "start_time": "2022-03-11T12:02:04.845Z"
   },
   {
    "duration": 354,
    "start_time": "2022-03-11T12:02:39.628Z"
   },
   {
    "duration": 6,
    "start_time": "2022-03-11T12:02:41.735Z"
   },
   {
    "duration": 5,
    "start_time": "2022-03-11T12:02:42.807Z"
   },
   {
    "duration": 14,
    "start_time": "2022-03-11T12:06:19.608Z"
   },
   {
    "duration": 1121,
    "start_time": "2022-03-11T12:06:39.407Z"
   },
   {
    "duration": 20,
    "start_time": "2022-03-11T12:06:40.530Z"
   },
   {
    "duration": 14,
    "start_time": "2022-03-11T12:06:40.554Z"
   },
   {
    "duration": 7,
    "start_time": "2022-03-11T12:06:40.569Z"
   },
   {
    "duration": 3,
    "start_time": "2022-03-11T12:06:40.578Z"
   },
   {
    "duration": 24,
    "start_time": "2022-03-11T12:06:40.582Z"
   },
   {
    "duration": 5,
    "start_time": "2022-03-11T12:06:40.608Z"
   },
   {
    "duration": 4,
    "start_time": "2022-03-11T12:06:40.616Z"
   },
   {
    "duration": 380,
    "start_time": "2022-03-11T12:06:40.622Z"
   },
   {
    "duration": 185240,
    "start_time": "2022-03-11T12:03:35.764Z"
   },
   {
    "duration": 1407,
    "start_time": "2022-03-11T12:07:20.936Z"
   },
   {
    "duration": 23,
    "start_time": "2022-03-11T12:07:22.345Z"
   },
   {
    "duration": 21,
    "start_time": "2022-03-11T12:07:22.373Z"
   },
   {
    "duration": 15,
    "start_time": "2022-03-11T12:07:22.396Z"
   },
   {
    "duration": 9,
    "start_time": "2022-03-11T12:07:22.413Z"
   },
   {
    "duration": 8,
    "start_time": "2022-03-11T12:07:22.424Z"
   },
   {
    "duration": 7,
    "start_time": "2022-03-11T12:07:22.434Z"
   },
   {
    "duration": 6,
    "start_time": "2022-03-11T12:07:22.444Z"
   },
   {
    "duration": 4,
    "start_time": "2022-03-11T12:07:22.452Z"
   },
   {
    "duration": 49,
    "start_time": "2022-03-11T12:07:22.458Z"
   },
   {
    "duration": 19,
    "start_time": "2022-03-11T12:07:58.265Z"
   },
   {
    "duration": 19,
    "start_time": "2022-03-11T12:08:14.601Z"
   },
   {
    "duration": 20,
    "start_time": "2022-03-11T12:10:17.937Z"
   },
   {
    "duration": 16391,
    "start_time": "2022-03-11T12:12:20.179Z"
   },
   {
    "duration": 18,
    "start_time": "2022-03-11T12:12:55.562Z"
   },
   {
    "duration": 10820,
    "start_time": "2022-03-11T12:13:20.754Z"
   },
   {
    "duration": 3,
    "start_time": "2022-03-11T12:14:47.589Z"
   },
   {
    "duration": 83,
    "start_time": "2022-03-11T12:15:40.183Z"
   },
   {
    "duration": 112,
    "start_time": "2022-03-11T12:15:47.255Z"
   },
   {
    "duration": 51,
    "start_time": "2022-03-11T12:15:52.007Z"
   },
   {
    "duration": 85,
    "start_time": "2022-03-11T12:15:57.199Z"
   },
   {
    "duration": 83,
    "start_time": "2022-03-11T12:16:05.672Z"
   },
   {
    "duration": 124,
    "start_time": "2022-03-11T12:16:11.192Z"
   },
   {
    "duration": 124,
    "start_time": "2022-03-11T12:16:20.240Z"
   },
   {
    "duration": 16307,
    "start_time": "2022-03-11T12:16:26.505Z"
   },
   {
    "duration": 13,
    "start_time": "2022-03-11T12:17:50.802Z"
   },
   {
    "duration": 19,
    "start_time": "2022-03-11T12:18:15.490Z"
   },
   {
    "duration": 98,
    "start_time": "2022-03-11T12:18:17.866Z"
   },
   {
    "duration": 11,
    "start_time": "2022-03-11T12:18:23.674Z"
   },
   {
    "duration": 6,
    "start_time": "2022-03-11T12:19:57.096Z"
   },
   {
    "duration": 6,
    "start_time": "2022-03-11T12:19:58.691Z"
   },
   {
    "duration": 7,
    "start_time": "2022-03-11T12:20:00.187Z"
   },
   {
    "duration": 1003,
    "start_time": "2022-03-11T12:20:48.557Z"
   },
   {
    "duration": 31,
    "start_time": "2022-03-11T12:20:49.562Z"
   },
   {
    "duration": 14,
    "start_time": "2022-03-11T12:20:49.597Z"
   },
   {
    "duration": 7,
    "start_time": "2022-03-11T12:20:49.613Z"
   },
   {
    "duration": 3,
    "start_time": "2022-03-11T12:20:49.622Z"
   },
   {
    "duration": 6,
    "start_time": "2022-03-11T12:20:49.627Z"
   },
   {
    "duration": 5,
    "start_time": "2022-03-11T12:20:49.635Z"
   },
   {
    "duration": 6,
    "start_time": "2022-03-11T12:20:49.643Z"
   },
   {
    "duration": 5,
    "start_time": "2022-03-11T12:20:49.651Z"
   },
   {
    "duration": 84,
    "start_time": "2022-03-11T12:20:49.658Z"
   },
   {
    "duration": 15989,
    "start_time": "2022-03-11T12:20:49.744Z"
   },
   {
    "duration": 132,
    "start_time": "2022-03-11T12:21:05.735Z"
   },
   {
    "duration": 37,
    "start_time": "2022-03-11T12:21:05.869Z"
   },
   {
    "duration": 158,
    "start_time": "2022-03-11T12:21:05.908Z"
   },
   {
    "duration": 14,
    "start_time": "2022-03-11T12:21:06.068Z"
   },
   {
    "duration": 21,
    "start_time": "2022-03-11T12:21:06.084Z"
   },
   {
    "duration": 6,
    "start_time": "2022-03-11T12:21:06.107Z"
   },
   {
    "duration": 6,
    "start_time": "2022-03-11T12:21:06.115Z"
   },
   {
    "duration": 10,
    "start_time": "2022-03-11T12:21:53.690Z"
   },
   {
    "duration": 95,
    "start_time": "2022-03-11T12:22:05.138Z"
   },
   {
    "duration": 121,
    "start_time": "2022-03-11T12:22:09.698Z"
   },
   {
    "duration": 108,
    "start_time": "2022-03-11T12:22:14.187Z"
   },
   {
    "duration": 115,
    "start_time": "2022-03-11T12:23:58.450Z"
   },
   {
    "duration": 1082,
    "start_time": "2022-03-11T12:26:48.248Z"
   },
   {
    "duration": 19,
    "start_time": "2022-03-11T12:26:49.332Z"
   },
   {
    "duration": 14,
    "start_time": "2022-03-11T12:26:49.353Z"
   },
   {
    "duration": 8,
    "start_time": "2022-03-11T12:26:49.369Z"
   },
   {
    "duration": 8,
    "start_time": "2022-03-11T12:26:49.378Z"
   },
   {
    "duration": 12,
    "start_time": "2022-03-11T12:26:49.388Z"
   },
   {
    "duration": 7,
    "start_time": "2022-03-11T12:26:49.401Z"
   },
   {
    "duration": 6,
    "start_time": "2022-03-11T12:26:49.410Z"
   },
   {
    "duration": 7,
    "start_time": "2022-03-11T12:26:49.417Z"
   },
   {
    "duration": 26,
    "start_time": "2022-03-11T12:26:49.425Z"
   },
   {
    "duration": 10196,
    "start_time": "2022-03-11T12:26:49.452Z"
   },
   {
    "duration": 91,
    "start_time": "2022-03-11T12:26:59.650Z"
   },
   {
    "duration": 18,
    "start_time": "2022-03-11T12:26:59.743Z"
   },
   {
    "duration": 124,
    "start_time": "2022-03-11T12:26:59.763Z"
   },
   {
    "duration": 20,
    "start_time": "2022-03-11T12:26:59.889Z"
   },
   {
    "duration": 7,
    "start_time": "2022-03-11T12:26:59.910Z"
   },
   {
    "duration": 30,
    "start_time": "2022-03-11T12:26:59.919Z"
   },
   {
    "duration": 29,
    "start_time": "2022-03-11T12:26:59.950Z"
   },
   {
    "duration": 582,
    "start_time": "2022-03-14T13:35:24.687Z"
   },
   {
    "duration": 723,
    "start_time": "2022-03-14T13:35:53.529Z"
   },
   {
    "duration": 1345,
    "start_time": "2022-03-14T13:36:20.428Z"
   },
   {
    "duration": 512,
    "start_time": "2022-03-14T13:36:27.308Z"
   },
   {
    "duration": 1194,
    "start_time": "2022-03-14T13:36:34.963Z"
   },
   {
    "duration": 18,
    "start_time": "2022-03-14T13:36:36.159Z"
   },
   {
    "duration": 11,
    "start_time": "2022-03-14T13:36:36.180Z"
   },
   {
    "duration": 9,
    "start_time": "2022-03-14T13:36:36.193Z"
   },
   {
    "duration": 7,
    "start_time": "2022-03-14T13:36:36.203Z"
   },
   {
    "duration": 8,
    "start_time": "2022-03-14T13:36:36.212Z"
   },
   {
    "duration": 12103,
    "start_time": "2022-03-14T13:36:36.222Z"
   },
   {
    "duration": 190793,
    "start_time": "2022-03-14T13:33:37.535Z"
   },
   {
    "duration": 190792,
    "start_time": "2022-03-14T13:33:37.537Z"
   },
   {
    "duration": 190790,
    "start_time": "2022-03-14T13:33:37.540Z"
   },
   {
    "duration": 190790,
    "start_time": "2022-03-14T13:33:37.541Z"
   },
   {
    "duration": 190791,
    "start_time": "2022-03-14T13:33:37.542Z"
   },
   {
    "duration": 190791,
    "start_time": "2022-03-14T13:33:37.543Z"
   },
   {
    "duration": 190791,
    "start_time": "2022-03-14T13:33:37.544Z"
   },
   {
    "duration": 190792,
    "start_time": "2022-03-14T13:33:37.545Z"
   },
   {
    "duration": 190791,
    "start_time": "2022-03-14T13:33:37.547Z"
   },
   {
    "duration": 190791,
    "start_time": "2022-03-14T13:33:37.548Z"
   },
   {
    "duration": 190791,
    "start_time": "2022-03-14T13:33:37.549Z"
   },
   {
    "duration": 190791,
    "start_time": "2022-03-14T13:33:37.550Z"
   },
   {
    "duration": 1241,
    "start_time": "2022-03-14T13:40:31.528Z"
   },
   {
    "duration": 19,
    "start_time": "2022-03-14T13:40:32.771Z"
   },
   {
    "duration": 11,
    "start_time": "2022-03-14T13:40:32.794Z"
   },
   {
    "duration": 7,
    "start_time": "2022-03-14T13:40:32.807Z"
   },
   {
    "duration": 6,
    "start_time": "2022-03-14T13:40:32.816Z"
   },
   {
    "duration": 11,
    "start_time": "2022-03-14T13:40:32.824Z"
   },
   {
    "duration": 970,
    "start_time": "2022-03-14T13:40:32.838Z"
   },
   {
    "duration": 190814,
    "start_time": "2022-03-14T13:37:22.996Z"
   },
   {
    "duration": 190814,
    "start_time": "2022-03-14T13:37:22.997Z"
   },
   {
    "duration": 190813,
    "start_time": "2022-03-14T13:37:22.999Z"
   },
   {
    "duration": 190813,
    "start_time": "2022-03-14T13:37:23.000Z"
   },
   {
    "duration": 190812,
    "start_time": "2022-03-14T13:37:23.002Z"
   },
   {
    "duration": 190812,
    "start_time": "2022-03-14T13:37:23.003Z"
   },
   {
    "duration": 190809,
    "start_time": "2022-03-14T13:37:23.007Z"
   },
   {
    "duration": 190807,
    "start_time": "2022-03-14T13:37:23.010Z"
   },
   {
    "duration": 190807,
    "start_time": "2022-03-14T13:37:23.011Z"
   },
   {
    "duration": 190807,
    "start_time": "2022-03-14T13:37:23.012Z"
   },
   {
    "duration": 190803,
    "start_time": "2022-03-14T13:37:23.017Z"
   },
   {
    "duration": 190802,
    "start_time": "2022-03-14T13:37:23.019Z"
   },
   {
    "duration": 996,
    "start_time": "2022-03-14T13:41:07.029Z"
   },
   {
    "duration": 22,
    "start_time": "2022-03-14T13:41:08.027Z"
   },
   {
    "duration": 21,
    "start_time": "2022-03-14T13:41:08.051Z"
   },
   {
    "duration": 8,
    "start_time": "2022-03-14T13:41:08.074Z"
   },
   {
    "duration": 4,
    "start_time": "2022-03-14T13:41:08.084Z"
   },
   {
    "duration": 7,
    "start_time": "2022-03-14T13:41:08.102Z"
   },
   {
    "duration": 8,
    "start_time": "2022-03-14T13:41:08.111Z"
   },
   {
    "duration": 6,
    "start_time": "2022-03-14T13:41:08.120Z"
   },
   {
    "duration": 3,
    "start_time": "2022-03-14T13:41:08.129Z"
   },
   {
    "duration": 31,
    "start_time": "2022-03-14T13:41:08.135Z"
   },
   {
    "duration": 14836,
    "start_time": "2022-03-14T13:41:08.168Z"
   },
   {
    "duration": 119,
    "start_time": "2022-03-14T13:41:23.006Z"
   },
   {
    "duration": 17,
    "start_time": "2022-03-14T13:41:23.127Z"
   },
   {
    "duration": 114,
    "start_time": "2022-03-14T13:41:23.146Z"
   },
   {
    "duration": 11,
    "start_time": "2022-03-14T13:41:23.263Z"
   },
   {
    "duration": 7,
    "start_time": "2022-03-14T13:41:23.276Z"
   },
   {
    "duration": 6,
    "start_time": "2022-03-14T13:41:23.302Z"
   },
   {
    "duration": 7,
    "start_time": "2022-03-14T13:41:23.310Z"
   }
  ],
  "kernelspec": {
   "display_name": "Python 3",
   "language": "python",
   "name": "python3"
  },
  "language_info": {
   "codemirror_mode": {
    "name": "ipython",
    "version": 3
   },
   "file_extension": ".py",
   "mimetype": "text/x-python",
   "name": "python",
   "nbconvert_exporter": "python",
   "pygments_lexer": "ipython3",
   "version": "3.9.1"
  },
  "toc": {
   "base_numbering": 1,
   "nav_menu": {},
   "number_sections": true,
   "sideBar": true,
   "skip_h1_title": true,
   "title_cell": "Table of Contents",
   "title_sidebar": "Contents",
   "toc_cell": false,
   "toc_position": {},
   "toc_section_display": true,
   "toc_window_display": false
  }
 },
 "nbformat": 4,
 "nbformat_minor": 2
}
